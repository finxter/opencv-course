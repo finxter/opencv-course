{
 "cells": [
  {
   "cell_type": "markdown",
   "id": "existing-continuity",
   "metadata": {},
   "source": [
    "# Object Tracking"
   ]
  },
  {
   "cell_type": "markdown",
   "id": "written-bridges",
   "metadata": {},
   "source": [
    "- Object detection vs Object tracking\n",
    "<br>\n",
    "- How does object tracking work? \n",
    "  - The MIL method: https://faculty.ucmerced.edu/mhyang/papers/cvpr09a.pdf\n",
    "  - Multiple instance learning: boosting + multiple instances based on neighbourhood.\n",
    "  - Input frame + ROI --> Trained object tracking model --> ROI bbox.\n",
    "<br>\n",
    "- Advantages: good and robust performance.\n",
    "- Disadvantages: cannot detect when tracking is lost."
   ]
  },
  {
   "cell_type": "markdown",
   "id": "downtown-lecture",
   "metadata": {},
   "source": [
    "# Import Module"
   ]
  },
  {
   "cell_type": "code",
   "execution_count": 1,
   "id": "adjusted-status",
   "metadata": {},
   "outputs": [],
   "source": [
    "import cv2"
   ]
  },
  {
   "cell_type": "markdown",
   "id": "grateful-comparison",
   "metadata": {},
   "source": [
    "# Track Objects in a Video File"
   ]
  },
  {
   "cell_type": "code",
   "execution_count": 2,
   "id": "cloudy-collapse",
   "metadata": {},
   "outputs": [],
   "source": [
    "# create tracker object\n",
    "tracker = cv2.TrackerMIL_create()\n",
    "\n",
    "# capture video from prerecorded video\n",
    "video_frames = cv2.VideoCapture('./notebook.MOV')  # 0: default camera\n",
    "\n",
    "# read frames\n",
    "ret, frame = video_frames.read()\n",
    "\n",
    "# draw ROI from the first captured frame\n",
    "roi = cv2.selectROI(img=frame, showCrosshair=False)\n",
    "\n",
    "# initiate tracker\n",
    "ret = tracker.init(frame, roi)\n",
    "\n",
    "# get frame size from camera\n",
    "frame_width = int(video_frames.get(cv2.CAP_PROP_FRAME_WIDTH))\n",
    "frame_height = int(video_frames.get(cv2.CAP_PROP_FRAME_HEIGHT))\n",
    "\n",
    "# initialize writer\n",
    "# fourcc: video codec. DIVX for windows, XVID for linux and macOS\n",
    "# fps: 30\n",
    "writer = cv2.VideoWriter('./recorded-obj-tracker.mp4', cv2.VideoWriter_fourcc(*'DIVX'), 30, (frame_width, frame_height))\n",
    "\n",
    "# loop: grab and display frame\n",
    "while True:\n",
    "    # read frames\n",
    "    ret, frame = video_frames.read()\n",
    "    \n",
    "    # update tracker\n",
    "    success, roi = tracker.update(frame)\n",
    "    \n",
    "    # convert float values of roi to int and make them a tuple\n",
    "    (x, y, w, h) = tuple(map(int, roi))\n",
    "    \n",
    "    # if tracking is a success, draw rectangle. else, display text\n",
    "    if success:\n",
    "        cv2.rectangle(img=frame, pt1=(x, y), pt2=(x+w, y+h), color=(255, 255, 255), thickness=3)\n",
    "    else:\n",
    "        cv2.putText(img=frame, text='Tracking is lost.', org=(100, 200), fontFace=cv2.FONT_HERSHEY_SIMPLEX, thickness=2)\n",
    "    \n",
    "    # save video\n",
    "    writer.write(frame)\n",
    "    \n",
    "    # show frame\n",
    "    cv2.imshow('frame', frame)\n",
    "    \n",
    "    # if frame is display for more than 1 ms and ESC key is pressed, close display\n",
    "    if cv2.waitKey(1) & 0xFF == 27:\n",
    "        break\n",
    "\n",
    "video_frames.release()\n",
    "writer.release()\n",
    "cv2.destroyAllWindows()"
   ]
  },
  {
   "cell_type": "markdown",
   "id": "wireless-greenhouse",
   "metadata": {},
   "source": [
    "# Track Objects on Live Camera"
   ]
  },
  {
   "cell_type": "code",
   "execution_count": 3,
   "id": "thorough-bathroom",
   "metadata": {},
   "outputs": [],
   "source": [
    "# create tracker object\n",
    "tracker = cv2.TrackerMIL_create()\n",
    "\n",
    "# capture video from default camera\n",
    "video_frames = cv2.VideoCapture(0)  # 0: default camera\n",
    "\n",
    "# read frames\n",
    "ret, frame = video_frames.read()\n",
    "\n",
    "# draw object from the first captured frame\n",
    "roi = cv2.selectROI(img=frame, showCrosshair=False)\n",
    "\n",
    "# initiate tracker\n",
    "ret = tracker.init(frame, roi)\n",
    "\n",
    "# get frame size from camera\n",
    "frame_width = int(video_frames.get(cv2.CAP_PROP_FRAME_WIDTH))\n",
    "frame_height = int(video_frames.get(cv2.CAP_PROP_FRAME_HEIGHT))\n",
    "\n",
    "# initialize writer\n",
    "# fourcc: video codec. DIVX for windows, XVID for linux and macOS\n",
    "# fps: 30\n",
    "writer = cv2.VideoWriter('./live-obj-tracker.mp4', cv2.VideoWriter_fourcc(*'DIVX'), 30, (frame_width, frame_height))\n",
    "\n",
    "# loop: grab and display frame\n",
    "while True:\n",
    "    # read frames\n",
    "    ret, frame = video_frames.read()\n",
    "    \n",
    "    # update tracker\n",
    "    success, roi = tracker.update(frame)\n",
    "    \n",
    "    # convert float values of roi to int and make them a tuple\n",
    "    (x, y, w, h) = tuple(map(int, roi))\n",
    "    \n",
    "    # if tracking is a success, draw rectangle. else, display text\n",
    "    if success:\n",
    "        cv2.rectangle(img=frame, pt1=(x, y), pt2=(x+w, y+h), color=(255, 255, 255), thickness=3)\n",
    "    else:\n",
    "        cv2.putText(img=frame, text='Tracking is lost.', org=(100, 200), fontFace=cv2.FONT_HERSHEY_SIMPLEX, thickness=2)\n",
    "    \n",
    "    # save video\n",
    "    writer.write(frame)\n",
    "    \n",
    "    # show frame\n",
    "    cv2.imshow('frame', frame)\n",
    "    \n",
    "    # if frame is display for more than 1 ms and ESC key is pressed, close display\n",
    "    if cv2.waitKey(1) & 0xFF == 27:\n",
    "        break\n",
    "\n",
    "video_frames.release()\n",
    "writer.release()\n",
    "cv2.destroyAllWindows()"
   ]
  },
  {
   "cell_type": "code",
   "execution_count": null,
   "id": "dangerous-avenue",
   "metadata": {},
   "outputs": [],
   "source": []
  }
 ],
 "metadata": {
  "kernelspec": {
   "display_name": "Python 3",
   "language": "python",
   "name": "python3"
  },
  "language_info": {
   "codemirror_mode": {
    "name": "ipython",
    "version": 3
   },
   "file_extension": ".py",
   "mimetype": "text/x-python",
   "name": "python",
   "nbconvert_exporter": "python",
   "pygments_lexer": "ipython3",
   "version": "3.8.8"
  }
 },
 "nbformat": 4,
 "nbformat_minor": 5
}
