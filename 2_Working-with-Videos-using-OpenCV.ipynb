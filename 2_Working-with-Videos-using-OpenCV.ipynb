{
 "cells": [
  {
   "cell_type": "code",
   "execution_count": 1,
   "id": "efficient-concord",
   "metadata": {},
   "outputs": [],
   "source": [
    "import cv2\n",
    "import time"
   ]
  },
  {
   "cell_type": "markdown",
   "id": "suitable-gallery",
   "metadata": {},
   "source": [
    "# Connect to A Webcam"
   ]
  },
  {
   "cell_type": "code",
   "execution_count": 2,
   "id": "confirmed-washington",
   "metadata": {},
   "outputs": [],
   "source": [
    "video_frames = cv2.VideoCapture(0)  # 0: default camera\n",
    "\n",
    "# get frame size from camera\n",
    "frame_width = int(video_frames.get(cv2.CAP_PROP_FRAME_WIDTH))\n",
    "frame_height = int(video_frames.get(cv2.CAP_PROP_FRAME_HEIGHT))\n",
    "\n",
    "# initialize writer\n",
    "# fourcc: video codec. DIVX for windows, XVID for linux and macOS\n",
    "# fps: 30\n",
    "writer = cv2.VideoWriter('./my_video.mp4', cv2.VideoWriter_fourcc(*'DIVX'), 30, (frame_width, frame_height))   \n",
    " \n",
    "# loop: grab frame and display image\n",
    "while True:\n",
    "    \n",
    "    ret, frame = video_frames.read()\n",
    "    \n",
    "    # save video\n",
    "    writer.write(frame)\n",
    "    \n",
    "    # show frame\n",
    "    cv2.imshow('frame', frame)\n",
    "    \n",
    "    # if frame is display for more than 1 ms and ESC key is pressed, close display\n",
    "    if cv2.waitKey(1) & 0xFF == 27:\n",
    "        break\n",
    "\n",
    "video_frames.release()\n",
    "writer.release()\n",
    "cv2.destroyAllWindows()"
   ]
  },
  {
   "cell_type": "markdown",
   "id": "running-integration",
   "metadata": {},
   "source": [
    "# Load A Video File"
   ]
  },
  {
   "cell_type": "code",
   "execution_count": 3,
   "id": "handed-january",
   "metadata": {},
   "outputs": [],
   "source": [
    "video_frames = cv2.VideoCapture('./my_video.mp4')\n",
    "\n",
    "# check if video is loaded\n",
    "if video_frames.isOpened() == False:\n",
    "    print('Error: File not found or wrong codec used.')\n",
    "\n",
    "# show video files with delay\n",
    "while video_frames.isOpened():\n",
    "    \n",
    "    ret, frame = video_frames.read()\n",
    "    \n",
    "    # if the video is running\n",
    "    if ret == True:\n",
    "        # add delay, display at frame rate 30\n",
    "        time.sleep(1/30)  \n",
    "        \n",
    "        cv2.imshow('frame', frame)  \n",
    "        \n",
    "        if cv2.waitKey(10) & 0xFF == 27:\n",
    "            break\n",
    "    \n",
    "    # if the video is finished, break loop\n",
    "    else:\n",
    "        break\n",
    "\n",
    "video_frames.release()\n",
    "cv2.destroyAllWindows()"
   ]
  },
  {
   "cell_type": "markdown",
   "id": "civil-eclipse",
   "metadata": {},
   "source": [
    "# Draw Shapes on Video"
   ]
  },
  {
   "cell_type": "code",
   "execution_count": 4,
   "id": "synthetic-boards",
   "metadata": {},
   "outputs": [],
   "source": [
    "video_frames = cv2.VideoCapture(0)  \n",
    "\n",
    "# get frame size from camera\n",
    "frame_width = int(video_frames.get(cv2.CAP_PROP_FRAME_WIDTH))\n",
    "frame_height = int(video_frames.get(cv2.CAP_PROP_FRAME_HEIGHT))\n",
    "\n",
    "# define top left corner\n",
    "x = frame_width // 4\n",
    "y = frame_height // 4\n",
    "\n",
    "# define rectangle size\n",
    "rect_width = frame_width // 4\n",
    "rect_height = frame_height // 4\n",
    " \n",
    "# loop: grab frame and display image\n",
    "while True:\n",
    "    ret, frame = video_frames.read()\n",
    "    \n",
    "    # rectangle\n",
    "    cv2.rectangle(img=frame, pt1=(x,y), pt2=(x+rect_width, y+rect_height), color=(255, 0, 0), thickness=4)\n",
    "    \n",
    "    cv2.imshow('frame', frame)\n",
    "    \n",
    "    if cv2.waitKey(1) & 0xFF == 27:\n",
    "        break\n",
    "\n",
    "video_frames.release()\n",
    "cv2.destroyAllWindows()"
   ]
  },
  {
   "cell_type": "markdown",
   "id": "undefined-albany",
   "metadata": {},
   "source": [
    "# Interact with Video"
   ]
  },
  {
   "cell_type": "code",
   "execution_count": 5,
   "id": "molecular-terry",
   "metadata": {},
   "outputs": [],
   "source": [
    "def draw_rectangle(event, x, y, flags, param):\n",
    "    '''draw rectangles on screen by clicks'''\n",
    "    \n",
    "    global pt1, pt2, topLeft_clicked, botRight_clicked\n",
    "    \n",
    "    if event == cv2.EVENT_LBUTTONDOWN:\n",
    "        # if there is existing rectangle, reset the variables\n",
    "        if topLeft_clicked == True and botRight_clicked == True:\n",
    "            pt1 = (0, 0)\n",
    "            pt2 = (0, 0)\n",
    "            topLeft_clicked = False\n",
    "            botRight_clicked = False\n",
    "        \n",
    "        # if there is no pt1, register pt1\n",
    "        if topLeft_clicked == False:\n",
    "            pt1 = (x, y)\n",
    "            topLeft_clicked = True\n",
    "            \n",
    "        # else if there is no pt2, register pt2\n",
    "        elif botRight_clicked == False:\n",
    "            pt2 = (x, y)\n",
    "            botRight_clicked = True"
   ]
  },
  {
   "cell_type": "code",
   "execution_count": 6,
   "id": "romance-mitchell",
   "metadata": {},
   "outputs": [],
   "source": [
    "# initialize variables           \n",
    "pt1 = (0, 0)\n",
    "pt2 = (0, 0)\n",
    "topLeft_clicked = False\n",
    "botRight_clicked = False\n",
    "\n",
    "video_frames = cv2.VideoCapture(0)  # 0: default camera\n",
    "cv2.namedWindow('frame')\n",
    "cv2.setMouseCallback('frame', draw_rectangle)\n",
    " \n",
    "# loop: grab frame and display image\n",
    "while True:\n",
    "    ret, frame = video_frames.read()\n",
    "    \n",
    "    if topLeft_clicked:\n",
    "        cv2.circle(img=frame, center=pt1, radius=5, color=(0, 255, 0), thickness=-1)\n",
    "    \n",
    "    if topLeft_clicked and botRight_clicked:\n",
    "        cv2.rectangle(img=frame, pt1=pt1, pt2=pt2, color=(0, 255, 0), thickness=3)\n",
    "    \n",
    "    # show frame\n",
    "    cv2.imshow('frame', frame)\n",
    "    \n",
    "    # if frame is display for more than 1 ms and ESC key is pressed, close display\n",
    "    if cv2.waitKey(1) & 0xFF == 27:\n",
    "        break\n",
    "\n",
    "video_frames.release()\n",
    "cv2.destroyAllWindows()"
   ]
  },
  {
   "cell_type": "markdown",
   "id": "painful-seafood",
   "metadata": {},
   "source": [
    "# Next Steps:\n",
    "\n",
    "- Start-to-finish object detection project."
   ]
  },
  {
   "cell_type": "code",
   "execution_count": null,
   "id": "listed-girlfriend",
   "metadata": {},
   "outputs": [],
   "source": []
  }
 ],
 "metadata": {
  "kernelspec": {
   "display_name": "Python 3",
   "language": "python",
   "name": "python3"
  },
  "language_info": {
   "codemirror_mode": {
    "name": "ipython",
    "version": 3
   },
   "file_extension": ".py",
   "mimetype": "text/x-python",
   "name": "python",
   "nbconvert_exporter": "python",
   "pygments_lexer": "ipython3",
   "version": "3.8.8"
  }
 },
 "nbformat": 4,
 "nbformat_minor": 5
}
